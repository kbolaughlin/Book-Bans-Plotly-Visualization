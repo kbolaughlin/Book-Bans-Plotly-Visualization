{
 "cells": [
  {
   "cell_type": "code",
   "execution_count": 1,
   "id": "6aff086b-5d93-4c92-988f-d0cb3c695eb4",
   "metadata": {
    "tags": []
   },
   "outputs": [],
   "source": [
    "import pandas as pd\n",
    "import numpy as np\n",
    "import time\n",
    "import difflib\n",
    "#!pip install py-stringmatching\n",
    "import py_stringmatching as sm \n",
    "from py_stringmatching.similarity_measure import cosine as cos"
   ]
  },
  {
   "cell_type": "markdown",
   "id": "1f6a3b38-335f-4c84-b7b8-08df9ff72442",
   "metadata": {},
   "source": [
    "bring in banned book infoimport time"
   ]
  },
  {
   "cell_type": "code",
   "execution_count": 2,
   "id": "68d16104-6d21-4d6e-a283-4968f889b6d3",
   "metadata": {},
   "outputs": [],
   "source": [
    "bannedBooks = pd.read_excel('banned book data/bannedBooks.xlsx', header=[2], \\\n",
    "                           usecols=['Author', 'Title', 'Type of Ban', 'State','District'])"
   ]
  },
  {
   "cell_type": "code",
   "execution_count": 3,
   "id": "5cb8fb3e-27b5-4ae1-8c34-8cfad6346075",
   "metadata": {},
   "outputs": [
    {
     "data": {
      "text/plain": [
       "Index(['Author', 'Title', 'Type of Ban', 'State', 'District'], dtype='object')"
      ]
     },
     "execution_count": 3,
     "metadata": {},
     "output_type": "execute_result"
    }
   ],
   "source": [
    "bannedBooks.columns"
   ]
  },
  {
   "cell_type": "code",
   "execution_count": 4,
   "id": "e5cc88d0-95ea-4374-a112-123b0078bec6",
   "metadata": {},
   "outputs": [
    {
     "data": {
      "text/plain": [
       "2532"
      ]
     },
     "execution_count": 4,
     "metadata": {},
     "output_type": "execute_result"
    }
   ],
   "source": [
    "len(bannedBooks)"
   ]
  },
  {
   "cell_type": "code",
   "execution_count": 5,
   "id": "7227e1a2-ba94-4bf4-ab71-d9d64c939197",
   "metadata": {},
   "outputs": [],
   "source": [
    "stateCode = pd.read_csv('stateCode/state_abbrev.csv')"
   ]
  },
  {
   "cell_type": "markdown",
   "id": "ce932fe2-7473-4af6-b832-32799353883f",
   "metadata": {},
   "source": [
    "Link banned book districts to finances"
   ]
  },
  {
   "cell_type": "code",
   "execution_count": 6,
   "id": "5fca66de-fbdb-4b51-9db7-902e74b9838a",
   "metadata": {},
   "outputs": [],
   "source": [
    "q3_token = sm.QgramTokenizer(qval=3)\n",
    "cosine = cos.Cosine()"
   ]
  },
  {
   "cell_type": "code",
   "execution_count": 7,
   "id": "31a9fefd-e538-42e2-85ab-ac3afb3718ec",
   "metadata": {},
   "outputs": [],
   "source": [
    "sparcebanned = bannedBooks[['District', 'State']].drop_duplicates()"
   ]
  },
  {
   "cell_type": "code",
   "execution_count": 8,
   "id": "6abf8f4d-2c5b-42c6-9a69-201cd6740892",
   "metadata": {},
   "outputs": [],
   "source": [
    "finances = pd.read_csv('school district finances/districts.csv')"
   ]
  },
  {
   "cell_type": "code",
   "execution_count": 9,
   "id": "23b6a82c-6980-4a37-bd20-6fb12302fc70",
   "metadata": {},
   "outputs": [],
   "source": [
    "finances = finances.sort_values(by = ['NAME', 'STATE', 'YRDATA'],\\\n",
    "                     ascending = [True, True, False],\\\n",
    "                     na_position = 'last')\n",
    "finances = finances.drop_duplicates(subset=['NAME', 'STATE'], keep='first')"
   ]
  },
  {
   "cell_type": "code",
   "execution_count": 10,
   "id": "a4ee1bf5-833c-4902-bb0d-ae8e6d1f4179",
   "metadata": {},
   "outputs": [],
   "source": [
    "finances['name_lower'] = finances['NAME'].str.lower()\n",
    "sparcebanned['district_lower'] = sparcebanned['District'].str.lower()"
   ]
  },
  {
   "cell_type": "code",
   "execution_count": 11,
   "id": "2550a4e7-17f7-4c3d-a5cb-d5c9e5b229ec",
   "metadata": {},
   "outputs": [
    {
     "name": "stdout",
     "output_type": "stream",
     "text": [
      "6.340503931045532\n"
     ]
    }
   ],
   "source": [
    "matches = []\n",
    "startTime = time.time()\n",
    "for idx in range(len(sparcebanned)):\n",
    "    state = sparcebanned.iloc[idx]['State']\n",
    "    district = str(sparcebanned.iloc[idx]['district_lower'])\n",
    "    distSparced = district.replace('county', '')\n",
    "    distSparced = district.replace('schools', '')\n",
    "    distSparced = district.replace('school', '')    \n",
    "    distSparced = district.replace('district', '')\n",
    "    districtToken = q3_token.tokenize(distSparced)\n",
    "    \n",
    "    matchFound = ''\n",
    "    stateFinances = finances[finances['STATE'] == state]\n",
    "    for finIdx in range(len(stateFinances)):         \n",
    "        district2 = str(stateFinances.iloc[finIdx]['name_lower'])\n",
    "        dist2Sparced = district2.replace('county', '')\n",
    "        dist2Sparced = district2.replace('schools', '')\n",
    "        dist2Sparced = district2.replace('school', '')\n",
    "        dist2Sparced = district2.replace('district', '')\n",
    "        q3TokenSample = q3_token.tokenize(dist2Sparced)\n",
    "        cosScoreQ3 = cosine.get_sim_score(districtToken, q3TokenSample)\n",
    "        if(cosScoreQ3 > .68):\n",
    "            matchFound = district2            \n",
    "            break\n",
    "\n",
    "    matches.append([district, state, matchFound])\n",
    "\n",
    "endTime = time.time()\n",
    "print(endTime-startTime)"
   ]
  },
  {
   "cell_type": "code",
   "execution_count": 12,
   "id": "6ce62318-3546-4955-a8b6-5b77d79dde29",
   "metadata": {},
   "outputs": [],
   "source": [
    "matchesDf = pd.DataFrame(matches, columns=['bookDistrict', 'State', 'financeDistrict'])"
   ]
  },
  {
   "cell_type": "code",
   "execution_count": 13,
   "id": "1010efb8-8830-409d-bf3e-3752d65dd8a7",
   "metadata": {},
   "outputs": [],
   "source": [
    "matchesDf.to_csv('savedData/financeDistrictInfo.csv')"
   ]
  },
  {
   "cell_type": "code",
   "execution_count": 14,
   "id": "d5459194-fcd4-4a43-a41e-ae2e8bcbd652",
   "metadata": {},
   "outputs": [
    {
     "data": {
      "text/html": [
       "<div>\n",
       "<style scoped>\n",
       "    .dataframe tbody tr th:only-of-type {\n",
       "        vertical-align: middle;\n",
       "    }\n",
       "\n",
       "    .dataframe tbody tr th {\n",
       "        vertical-align: top;\n",
       "    }\n",
       "\n",
       "    .dataframe thead th {\n",
       "        text-align: right;\n",
       "    }\n",
       "</style>\n",
       "<table border=\"1\" class=\"dataframe\">\n",
       "  <thead>\n",
       "    <tr style=\"text-align: right;\">\n",
       "      <th></th>\n",
       "      <th>bookDistrict</th>\n",
       "      <th>State</th>\n",
       "      <th>financeDistrict</th>\n",
       "    </tr>\n",
       "  </thead>\n",
       "  <tbody>\n",
       "    <tr>\n",
       "      <th>0</th>\n",
       "      <td>indian river county school district</td>\n",
       "      <td>Florida</td>\n",
       "      <td>indian river county school district</td>\n",
       "    </tr>\n",
       "    <tr>\n",
       "      <th>1</th>\n",
       "      <td>central york school district</td>\n",
       "      <td>Pennsylvania</td>\n",
       "      <td>central valley school district</td>\n",
       "    </tr>\n",
       "    <tr>\n",
       "      <th>2</th>\n",
       "      <td>marlboro central school district</td>\n",
       "      <td>New York</td>\n",
       "      <td>marathon central school district</td>\n",
       "    </tr>\n",
       "    <tr>\n",
       "      <th>3</th>\n",
       "      <td>fredericksburg independent school district</td>\n",
       "      <td>Texas</td>\n",
       "      <td>fredericksburg ind sch district</td>\n",
       "    </tr>\n",
       "    <tr>\n",
       "      <th>4</th>\n",
       "      <td>new kent county public schools</td>\n",
       "      <td>Virginia</td>\n",
       "      <td></td>\n",
       "    </tr>\n",
       "    <tr>\n",
       "      <th>...</th>\n",
       "      <td>...</td>\n",
       "      <td>...</td>\n",
       "      <td>...</td>\n",
       "    </tr>\n",
       "    <tr>\n",
       "      <th>133</th>\n",
       "      <td>monett r-1 school district</td>\n",
       "      <td>Missouri</td>\n",
       "      <td></td>\n",
       "    </tr>\n",
       "    <tr>\n",
       "      <th>134</th>\n",
       "      <td>haywood county schools</td>\n",
       "      <td>North Carolina</td>\n",
       "      <td></td>\n",
       "    </tr>\n",
       "    <tr>\n",
       "      <th>135</th>\n",
       "      <td>lake county schools</td>\n",
       "      <td>Florida</td>\n",
       "      <td>lake county school district</td>\n",
       "    </tr>\n",
       "    <tr>\n",
       "      <th>136</th>\n",
       "      <td>rowva cusd 208</td>\n",
       "      <td>Illinois</td>\n",
       "      <td></td>\n",
       "    </tr>\n",
       "    <tr>\n",
       "      <th>137</th>\n",
       "      <td>lower township elementary school district</td>\n",
       "      <td>New Jersey</td>\n",
       "      <td></td>\n",
       "    </tr>\n",
       "  </tbody>\n",
       "</table>\n",
       "<p>138 rows × 3 columns</p>\n",
       "</div>"
      ],
      "text/plain": [
       "                                   bookDistrict           State  \\\n",
       "0           indian river county school district         Florida   \n",
       "1                  central york school district    Pennsylvania   \n",
       "2              marlboro central school district        New York   \n",
       "3    fredericksburg independent school district           Texas   \n",
       "4                new kent county public schools        Virginia   \n",
       "..                                          ...             ...   \n",
       "133                  monett r-1 school district        Missouri   \n",
       "134                      haywood county schools  North Carolina   \n",
       "135                         lake county schools         Florida   \n",
       "136                              rowva cusd 208        Illinois   \n",
       "137   lower township elementary school district      New Jersey   \n",
       "\n",
       "                         financeDistrict  \n",
       "0    indian river county school district  \n",
       "1         central valley school district  \n",
       "2       marathon central school district  \n",
       "3        fredericksburg ind sch district  \n",
       "4                                         \n",
       "..                                   ...  \n",
       "133                                       \n",
       "134                                       \n",
       "135          lake county school district  \n",
       "136                                       \n",
       "137                                       \n",
       "\n",
       "[138 rows x 3 columns]"
      ]
     },
     "execution_count": 14,
     "metadata": {},
     "output_type": "execute_result"
    }
   ],
   "source": [
    "matchesDf"
   ]
  },
  {
   "cell_type": "code",
   "execution_count": 15,
   "id": "359c47ef-c6f9-4265-915f-b1ded09fc5bf",
   "metadata": {
    "tags": []
   },
   "outputs": [
    {
     "data": {
      "text/plain": [
       "38"
      ]
     },
     "execution_count": 15,
     "metadata": {},
     "output_type": "execute_result"
    }
   ],
   "source": [
    "len([x for x in matchesDf['financeDistrict'] if x == ''])"
   ]
  },
  {
   "cell_type": "code",
   "execution_count": 16,
   "id": "3b6d7b46-83c7-40b0-93da-ad194d8bb335",
   "metadata": {},
   "outputs": [
    {
     "name": "stdout",
     "output_type": "stream",
     "text": [
      "0\n"
     ]
    }
   ],
   "source": [
    "sparcebanned = sparcebanned.merge(matchesDf, left_on=['district_lower', 'State'], \\\n",
    "                                  right_on=['bookDistrict', 'State'], how='left')\n",
    "print(sparcebanned['bookDistrict'].isna().sum())"
   ]
  },
  {
   "cell_type": "code",
   "execution_count": 17,
   "id": "d8081e9b-d1a5-4ef3-b4ac-fb7fed50b960",
   "metadata": {},
   "outputs": [
    {
     "name": "stdout",
     "output_type": "stream",
     "text": [
      "38\n"
     ]
    }
   ],
   "source": [
    "sparcebanned = sparcebanned.merge(finances, left_on=['financeDistrict', 'State'],\\\n",
    "                                  right_on=['name_lower', 'STATE'], how='left')\n",
    "print(sparcebanned['name_lower'].isna().sum())"
   ]
  },
  {
   "cell_type": "code",
   "execution_count": 18,
   "id": "0e889783-724d-4228-9f7b-bfa1ded4b300",
   "metadata": {},
   "outputs": [],
   "source": [
    "sparcebanned = sparcebanned.drop(['district_lower', 'bookDistrict'], axis=1)"
   ]
  },
  {
   "cell_type": "code",
   "execution_count": 20,
   "id": "f4df3454-e182-4ccd-bd55-ff227931ec26",
   "metadata": {},
   "outputs": [
    {
     "data": {
      "text/html": [
       "<div>\n",
       "<style scoped>\n",
       "    .dataframe tbody tr th:only-of-type {\n",
       "        vertical-align: middle;\n",
       "    }\n",
       "\n",
       "    .dataframe tbody tr th {\n",
       "        vertical-align: top;\n",
       "    }\n",
       "\n",
       "    .dataframe thead th {\n",
       "        text-align: right;\n",
       "    }\n",
       "</style>\n",
       "<table border=\"1\" class=\"dataframe\">\n",
       "  <thead>\n",
       "    <tr style=\"text-align: right;\">\n",
       "      <th></th>\n",
       "      <th>District</th>\n",
       "      <th>State</th>\n",
       "      <th>financeDistrict</th>\n",
       "      <th>STATE</th>\n",
       "      <th>ENROLL</th>\n",
       "      <th>NAME</th>\n",
       "      <th>YRDATA</th>\n",
       "      <th>TOTALREV</th>\n",
       "      <th>TFEDREV</th>\n",
       "      <th>TSTREV</th>\n",
       "      <th>TLOCREV</th>\n",
       "      <th>TOTALEXP</th>\n",
       "      <th>TCURINST</th>\n",
       "      <th>TCURSSVC</th>\n",
       "      <th>TCURONON</th>\n",
       "      <th>TCAPOUT</th>\n",
       "      <th>name_lower</th>\n",
       "    </tr>\n",
       "  </thead>\n",
       "  <tbody>\n",
       "    <tr>\n",
       "      <th>0</th>\n",
       "      <td>Indian River County School District</td>\n",
       "      <td>Florida</td>\n",
       "      <td>indian river county school district</td>\n",
       "      <td>Florida</td>\n",
       "      <td>17984.0</td>\n",
       "      <td>INDIAN RIVER COUNTY SCHOOL DISTRICT</td>\n",
       "      <td>2016.0</td>\n",
       "      <td>187800.0</td>\n",
       "      <td>17283.0</td>\n",
       "      <td>42202.0</td>\n",
       "      <td>128315.0</td>\n",
       "      <td>194975.0</td>\n",
       "      <td>95945.0</td>\n",
       "      <td>57457.0</td>\n",
       "      <td>8664.0</td>\n",
       "      <td>26437.0</td>\n",
       "      <td>indian river county school district</td>\n",
       "    </tr>\n",
       "    <tr>\n",
       "      <th>1</th>\n",
       "      <td>Central York School District</td>\n",
       "      <td>Pennsylvania</td>\n",
       "      <td>central valley school district</td>\n",
       "      <td>Pennsylvania</td>\n",
       "      <td>2277.0</td>\n",
       "      <td>CENTRAL VALLEY SCHOOL DISTRICT</td>\n",
       "      <td>2016.0</td>\n",
       "      <td>33348.0</td>\n",
       "      <td>747.0</td>\n",
       "      <td>14624.0</td>\n",
       "      <td>17977.0</td>\n",
       "      <td>33968.0</td>\n",
       "      <td>20585.0</td>\n",
       "      <td>10164.0</td>\n",
       "      <td>1045.0</td>\n",
       "      <td>505.0</td>\n",
       "      <td>central valley school district</td>\n",
       "    </tr>\n",
       "    <tr>\n",
       "      <th>2</th>\n",
       "      <td>Marlboro Central School District</td>\n",
       "      <td>New York</td>\n",
       "      <td>marathon central school district</td>\n",
       "      <td>New York</td>\n",
       "      <td>768.0</td>\n",
       "      <td>MARATHON CENTRAL SCHOOL DISTRICT</td>\n",
       "      <td>2016.0</td>\n",
       "      <td>16449.0</td>\n",
       "      <td>783.0</td>\n",
       "      <td>11913.0</td>\n",
       "      <td>3753.0</td>\n",
       "      <td>20005.0</td>\n",
       "      <td>10243.0</td>\n",
       "      <td>3965.0</td>\n",
       "      <td>395.0</td>\n",
       "      <td>4749.0</td>\n",
       "      <td>marathon central school district</td>\n",
       "    </tr>\n",
       "    <tr>\n",
       "      <th>3</th>\n",
       "      <td>Fredericksburg Independent School District</td>\n",
       "      <td>Texas</td>\n",
       "      <td>fredericksburg ind sch district</td>\n",
       "      <td>Texas</td>\n",
       "      <td>2790.0</td>\n",
       "      <td>FREDERICKSBURG IND SCH DISTRICT</td>\n",
       "      <td>1996.0</td>\n",
       "      <td>15149.0</td>\n",
       "      <td>953.0</td>\n",
       "      <td>5056.0</td>\n",
       "      <td>9140.0</td>\n",
       "      <td>16589.0</td>\n",
       "      <td>7740.0</td>\n",
       "      <td>4511.0</td>\n",
       "      <td>905.0</td>\n",
       "      <td>2668.0</td>\n",
       "      <td>fredericksburg ind sch district</td>\n",
       "    </tr>\n",
       "    <tr>\n",
       "      <th>4</th>\n",
       "      <td>New Kent County Public Schools</td>\n",
       "      <td>Virginia</td>\n",
       "      <td></td>\n",
       "      <td>NaN</td>\n",
       "      <td>NaN</td>\n",
       "      <td>NaN</td>\n",
       "      <td>NaN</td>\n",
       "      <td>NaN</td>\n",
       "      <td>NaN</td>\n",
       "      <td>NaN</td>\n",
       "      <td>NaN</td>\n",
       "      <td>NaN</td>\n",
       "      <td>NaN</td>\n",
       "      <td>NaN</td>\n",
       "      <td>NaN</td>\n",
       "      <td>NaN</td>\n",
       "      <td>NaN</td>\n",
       "    </tr>\n",
       "  </tbody>\n",
       "</table>\n",
       "</div>"
      ],
      "text/plain": [
       "                                     District         State  \\\n",
       "0         Indian River County School District       Florida   \n",
       "1                Central York School District  Pennsylvania   \n",
       "2            Marlboro Central School District      New York   \n",
       "3  Fredericksburg Independent School District         Texas   \n",
       "4              New Kent County Public Schools      Virginia   \n",
       "\n",
       "                       financeDistrict         STATE   ENROLL  \\\n",
       "0  indian river county school district       Florida  17984.0   \n",
       "1       central valley school district  Pennsylvania   2277.0   \n",
       "2     marathon central school district      New York    768.0   \n",
       "3      fredericksburg ind sch district         Texas   2790.0   \n",
       "4                                                NaN      NaN   \n",
       "\n",
       "                                  NAME  YRDATA  TOTALREV  TFEDREV   TSTREV  \\\n",
       "0  INDIAN RIVER COUNTY SCHOOL DISTRICT  2016.0  187800.0  17283.0  42202.0   \n",
       "1       CENTRAL VALLEY SCHOOL DISTRICT  2016.0   33348.0    747.0  14624.0   \n",
       "2     MARATHON CENTRAL SCHOOL DISTRICT  2016.0   16449.0    783.0  11913.0   \n",
       "3      FREDERICKSBURG IND SCH DISTRICT  1996.0   15149.0    953.0   5056.0   \n",
       "4                                  NaN     NaN       NaN      NaN      NaN   \n",
       "\n",
       "    TLOCREV  TOTALEXP  TCURINST  TCURSSVC  TCURONON  TCAPOUT  \\\n",
       "0  128315.0  194975.0   95945.0   57457.0    8664.0  26437.0   \n",
       "1   17977.0   33968.0   20585.0   10164.0    1045.0    505.0   \n",
       "2    3753.0   20005.0   10243.0    3965.0     395.0   4749.0   \n",
       "3    9140.0   16589.0    7740.0    4511.0     905.0   2668.0   \n",
       "4       NaN       NaN       NaN       NaN       NaN      NaN   \n",
       "\n",
       "                            name_lower  \n",
       "0  indian river county school district  \n",
       "1       central valley school district  \n",
       "2     marathon central school district  \n",
       "3      fredericksburg ind sch district  \n",
       "4                                  NaN  "
      ]
     },
     "execution_count": 20,
     "metadata": {},
     "output_type": "execute_result"
    }
   ],
   "source": [
    "sparcebanned.head()"
   ]
  },
  {
   "cell_type": "markdown",
   "id": "1e897837-91dc-42a8-9ab6-05b819e78a22",
   "metadata": {},
   "source": [
    "Get Book Categories"
   ]
  },
  {
   "cell_type": "code",
   "execution_count": 21,
   "id": "ef745e3e-806e-4043-a0c8-4f794cc51f2b",
   "metadata": {},
   "outputs": [],
   "source": [
    "bookRepo = pd.read_csv('book repository/dataset.csv')\n",
    "authorRepo = pd.read_csv('book repository/authors.csv')"
   ]
  },
  {
   "cell_type": "code",
   "execution_count": 26,
   "id": "9cf7a016-3071-4c5c-a07c-82403ef6adf0",
   "metadata": {},
   "outputs": [
    {
     "data": {
      "text/plain": [
       "1109383"
      ]
     },
     "execution_count": 26,
     "metadata": {},
     "output_type": "execute_result"
    }
   ],
   "source": [
    "len(bookRepo)"
   ]
  },
  {
   "cell_type": "code",
   "execution_count": 22,
   "id": "56f6e669-a420-4279-b0e2-e3977af1ec8f",
   "metadata": {},
   "outputs": [],
   "source": [
    "sparceBooks = bannedBooks[['Author', 'Title']].drop_duplicates()"
   ]
  },
  {
   "cell_type": "code",
   "execution_count": 24,
   "id": "58669be0-442f-41be-88d4-a12a7a52ca5f",
   "metadata": {
    "collapsed": true,
    "jupyter": {
     "outputs_hidden": true
    },
    "tags": []
   },
   "outputs": [
    {
     "data": {
      "text/html": [
       "<div>\n",
       "<style scoped>\n",
       "    .dataframe tbody tr th:only-of-type {\n",
       "        vertical-align: middle;\n",
       "    }\n",
       "\n",
       "    .dataframe tbody tr th {\n",
       "        vertical-align: top;\n",
       "    }\n",
       "\n",
       "    .dataframe thead th {\n",
       "        text-align: right;\n",
       "    }\n",
       "</style>\n",
       "<table border=\"1\" class=\"dataframe\">\n",
       "  <thead>\n",
       "    <tr style=\"text-align: right;\">\n",
       "      <th></th>\n",
       "      <th>Author</th>\n",
       "      <th>Title</th>\n",
       "    </tr>\n",
       "  </thead>\n",
       "  <tbody>\n",
       "    <tr>\n",
       "      <th>0</th>\n",
       "      <td>Àbíké-Íyímídé, Faridah</td>\n",
       "      <td>Ace of Spades</td>\n",
       "    </tr>\n",
       "    <tr>\n",
       "      <th>1</th>\n",
       "      <td>Acevedo, Elizabeth</td>\n",
       "      <td>Clap When You Land</td>\n",
       "    </tr>\n",
       "    <tr>\n",
       "      <th>2</th>\n",
       "      <td>Acevedo, Elizabeth</td>\n",
       "      <td>The Poet X</td>\n",
       "    </tr>\n",
       "    <tr>\n",
       "      <th>6</th>\n",
       "      <td>Aciman, André</td>\n",
       "      <td>Call Me By Your Name (Call Me By Your Name Ser...</td>\n",
       "    </tr>\n",
       "    <tr>\n",
       "      <th>7</th>\n",
       "      <td>Acito, Marc</td>\n",
       "      <td>How I Paid for College: A Novel of Sex, Theft,...</td>\n",
       "    </tr>\n",
       "    <tr>\n",
       "      <th>...</th>\n",
       "      <td>...</td>\n",
       "      <td>...</td>\n",
       "    </tr>\n",
       "    <tr>\n",
       "      <th>2527</th>\n",
       "      <td>Zia, Farhana</td>\n",
       "      <td>The Garden of My Imaan</td>\n",
       "    </tr>\n",
       "    <tr>\n",
       "      <th>2528</th>\n",
       "      <td>Ziemke, Kristin</td>\n",
       "      <td>Read the World: Rethinking Literacy for Empath...</td>\n",
       "    </tr>\n",
       "    <tr>\n",
       "      <th>2529</th>\n",
       "      <td>Zoboi, Ibi</td>\n",
       "      <td>American Street</td>\n",
       "    </tr>\n",
       "    <tr>\n",
       "      <th>2530</th>\n",
       "      <td>Zoboi, Ibi</td>\n",
       "      <td>Black Enough: Stories of Being Young &amp; Black i...</td>\n",
       "    </tr>\n",
       "    <tr>\n",
       "      <th>2531</th>\n",
       "      <td>Zunon, Elizabeth</td>\n",
       "      <td>Grandpa Cacao: A Tale of Chocolate, from Farm ...</td>\n",
       "    </tr>\n",
       "  </tbody>\n",
       "</table>\n",
       "<p>1656 rows × 2 columns</p>\n",
       "</div>"
      ],
      "text/plain": [
       "                      Author  \\\n",
       "0     Àbíké-Íyímídé, Faridah   \n",
       "1         Acevedo, Elizabeth   \n",
       "2         Acevedo, Elizabeth   \n",
       "6              Aciman, André   \n",
       "7                Acito, Marc   \n",
       "...                      ...   \n",
       "2527            Zia, Farhana   \n",
       "2528         Ziemke, Kristin   \n",
       "2529              Zoboi, Ibi   \n",
       "2530              Zoboi, Ibi   \n",
       "2531        Zunon, Elizabeth   \n",
       "\n",
       "                                                  Title  \n",
       "0                                         Ace of Spades  \n",
       "1                                    Clap When You Land  \n",
       "2                                            The Poet X  \n",
       "6     Call Me By Your Name (Call Me By Your Name Ser...  \n",
       "7     How I Paid for College: A Novel of Sex, Theft,...  \n",
       "...                                                 ...  \n",
       "2527                             The Garden of My Imaan  \n",
       "2528  Read the World: Rethinking Literacy for Empath...  \n",
       "2529                                    American Street  \n",
       "2530  Black Enough: Stories of Being Young & Black i...  \n",
       "2531  Grandpa Cacao: A Tale of Chocolate, from Farm ...  \n",
       "\n",
       "[1656 rows x 2 columns]"
      ]
     },
     "execution_count": 24,
     "metadata": {},
     "output_type": "execute_result"
    }
   ],
   "source": [
    "sparceBooks"
   ]
  },
  {
   "cell_type": "code",
   "execution_count": 27,
   "id": "83ff6a38-128b-4d47-9496-1c676a8f239a",
   "metadata": {},
   "outputs": [
    {
     "ename": "KeyError",
     "evalue": "'Author'",
     "output_type": "error",
     "traceback": [
      "\u001b[0;31m---------------------------------------------------------------------------\u001b[0m",
      "\u001b[0;31mKeyError\u001b[0m                                  Traceback (most recent call last)",
      "\u001b[0;32m~/anaconda3/lib/python3.9/site-packages/pandas/core/indexes/base.py\u001b[0m in \u001b[0;36mget_loc\u001b[0;34m(self, key, method, tolerance)\u001b[0m\n\u001b[1;32m   3628\u001b[0m             \u001b[0;32mtry\u001b[0m\u001b[0;34m:\u001b[0m\u001b[0;34m\u001b[0m\u001b[0;34m\u001b[0m\u001b[0m\n\u001b[0;32m-> 3629\u001b[0;31m                 \u001b[0;32mreturn\u001b[0m \u001b[0mself\u001b[0m\u001b[0;34m.\u001b[0m\u001b[0m_engine\u001b[0m\u001b[0;34m.\u001b[0m\u001b[0mget_loc\u001b[0m\u001b[0;34m(\u001b[0m\u001b[0mcasted_key\u001b[0m\u001b[0;34m)\u001b[0m\u001b[0;34m\u001b[0m\u001b[0;34m\u001b[0m\u001b[0m\n\u001b[0m\u001b[1;32m   3630\u001b[0m             \u001b[0;32mexcept\u001b[0m \u001b[0mKeyError\u001b[0m \u001b[0;32mas\u001b[0m \u001b[0merr\u001b[0m\u001b[0;34m:\u001b[0m\u001b[0;34m\u001b[0m\u001b[0;34m\u001b[0m\u001b[0m\n",
      "\u001b[0;32m~/anaconda3/lib/python3.9/site-packages/pandas/_libs/index.pyx\u001b[0m in \u001b[0;36mpandas._libs.index.IndexEngine.get_loc\u001b[0;34m()\u001b[0m\n",
      "\u001b[0;32m~/anaconda3/lib/python3.9/site-packages/pandas/_libs/index.pyx\u001b[0m in \u001b[0;36mpandas._libs.index.IndexEngine.get_loc\u001b[0;34m()\u001b[0m\n",
      "\u001b[0;32mpandas/_libs/hashtable_class_helper.pxi\u001b[0m in \u001b[0;36mpandas._libs.hashtable.PyObjectHashTable.get_item\u001b[0;34m()\u001b[0m\n",
      "\u001b[0;32mpandas/_libs/hashtable_class_helper.pxi\u001b[0m in \u001b[0;36mpandas._libs.hashtable.PyObjectHashTable.get_item\u001b[0;34m()\u001b[0m\n",
      "\u001b[0;31mKeyError\u001b[0m: 'Author'",
      "\nThe above exception was the direct cause of the following exception:\n",
      "\u001b[0;31mKeyError\u001b[0m                                  Traceback (most recent call last)",
      "\u001b[0;32m/tmp/ipykernel_5267/2407185519.py\u001b[0m in \u001b[0;36m<module>\u001b[0;34m\u001b[0m\n\u001b[1;32m      7\u001b[0m \u001b[0;34m\u001b[0m\u001b[0m\n\u001b[1;32m      8\u001b[0m     \u001b[0mmatchFound\u001b[0m \u001b[0;34m=\u001b[0m \u001b[0;34m''\u001b[0m\u001b[0;34m\u001b[0m\u001b[0;34m\u001b[0m\u001b[0m\n\u001b[0;32m----> 9\u001b[0;31m     \u001b[0mrepoAuthor\u001b[0m \u001b[0;34m=\u001b[0m \u001b[0mbookRepo\u001b[0m\u001b[0;34m[\u001b[0m\u001b[0mbookRepo\u001b[0m\u001b[0;34m[\u001b[0m\u001b[0;34m'Author'\u001b[0m\u001b[0;34m]\u001b[0m\u001b[0;34m.\u001b[0m\u001b[0mlower\u001b[0m\u001b[0;34m(\u001b[0m\u001b[0;34m)\u001b[0m \u001b[0;34m==\u001b[0m \u001b[0mauthor\u001b[0m\u001b[0;34m]\u001b[0m\u001b[0;34m\u001b[0m\u001b[0;34m\u001b[0m\u001b[0m\n\u001b[0m\u001b[1;32m     10\u001b[0m     \u001b[0;32mfor\u001b[0m \u001b[0mrepoIdx\u001b[0m \u001b[0;32min\u001b[0m \u001b[0mrange\u001b[0m\u001b[0;34m(\u001b[0m\u001b[0mlen\u001b[0m\u001b[0;34m(\u001b[0m\u001b[0mrepoAuthor\u001b[0m\u001b[0;34m)\u001b[0m\u001b[0;34m)\u001b[0m\u001b[0;34m:\u001b[0m\u001b[0;34m\u001b[0m\u001b[0;34m\u001b[0m\u001b[0m\n\u001b[1;32m     11\u001b[0m         \u001b[0mrepoTitle\u001b[0m \u001b[0;34m=\u001b[0m \u001b[0mstr\u001b[0m\u001b[0;34m(\u001b[0m\u001b[0mrepoAuthor\u001b[0m\u001b[0;34m.\u001b[0m\u001b[0miloc\u001b[0m\u001b[0;34m[\u001b[0m\u001b[0mrepoIdx\u001b[0m\u001b[0;34m]\u001b[0m\u001b[0;34m[\u001b[0m\u001b[0;34m'Title'\u001b[0m\u001b[0;34m]\u001b[0m\u001b[0;34m)\u001b[0m\u001b[0;34m\u001b[0m\u001b[0;34m\u001b[0m\u001b[0m\n",
      "\u001b[0;32m~/anaconda3/lib/python3.9/site-packages/pandas/core/frame.py\u001b[0m in \u001b[0;36m__getitem__\u001b[0;34m(self, key)\u001b[0m\n\u001b[1;32m   3503\u001b[0m             \u001b[0;32mif\u001b[0m \u001b[0mself\u001b[0m\u001b[0;34m.\u001b[0m\u001b[0mcolumns\u001b[0m\u001b[0;34m.\u001b[0m\u001b[0mnlevels\u001b[0m \u001b[0;34m>\u001b[0m \u001b[0;36m1\u001b[0m\u001b[0;34m:\u001b[0m\u001b[0;34m\u001b[0m\u001b[0;34m\u001b[0m\u001b[0m\n\u001b[1;32m   3504\u001b[0m                 \u001b[0;32mreturn\u001b[0m \u001b[0mself\u001b[0m\u001b[0;34m.\u001b[0m\u001b[0m_getitem_multilevel\u001b[0m\u001b[0;34m(\u001b[0m\u001b[0mkey\u001b[0m\u001b[0;34m)\u001b[0m\u001b[0;34m\u001b[0m\u001b[0;34m\u001b[0m\u001b[0m\n\u001b[0;32m-> 3505\u001b[0;31m             \u001b[0mindexer\u001b[0m \u001b[0;34m=\u001b[0m \u001b[0mself\u001b[0m\u001b[0;34m.\u001b[0m\u001b[0mcolumns\u001b[0m\u001b[0;34m.\u001b[0m\u001b[0mget_loc\u001b[0m\u001b[0;34m(\u001b[0m\u001b[0mkey\u001b[0m\u001b[0;34m)\u001b[0m\u001b[0;34m\u001b[0m\u001b[0;34m\u001b[0m\u001b[0m\n\u001b[0m\u001b[1;32m   3506\u001b[0m             \u001b[0;32mif\u001b[0m \u001b[0mis_integer\u001b[0m\u001b[0;34m(\u001b[0m\u001b[0mindexer\u001b[0m\u001b[0;34m)\u001b[0m\u001b[0;34m:\u001b[0m\u001b[0;34m\u001b[0m\u001b[0;34m\u001b[0m\u001b[0m\n\u001b[1;32m   3507\u001b[0m                 \u001b[0mindexer\u001b[0m \u001b[0;34m=\u001b[0m \u001b[0;34m[\u001b[0m\u001b[0mindexer\u001b[0m\u001b[0;34m]\u001b[0m\u001b[0;34m\u001b[0m\u001b[0;34m\u001b[0m\u001b[0m\n",
      "\u001b[0;32m~/anaconda3/lib/python3.9/site-packages/pandas/core/indexes/base.py\u001b[0m in \u001b[0;36mget_loc\u001b[0;34m(self, key, method, tolerance)\u001b[0m\n\u001b[1;32m   3629\u001b[0m                 \u001b[0;32mreturn\u001b[0m \u001b[0mself\u001b[0m\u001b[0;34m.\u001b[0m\u001b[0m_engine\u001b[0m\u001b[0;34m.\u001b[0m\u001b[0mget_loc\u001b[0m\u001b[0;34m(\u001b[0m\u001b[0mcasted_key\u001b[0m\u001b[0;34m)\u001b[0m\u001b[0;34m\u001b[0m\u001b[0;34m\u001b[0m\u001b[0m\n\u001b[1;32m   3630\u001b[0m             \u001b[0;32mexcept\u001b[0m \u001b[0mKeyError\u001b[0m \u001b[0;32mas\u001b[0m \u001b[0merr\u001b[0m\u001b[0;34m:\u001b[0m\u001b[0;34m\u001b[0m\u001b[0;34m\u001b[0m\u001b[0m\n\u001b[0;32m-> 3631\u001b[0;31m                 \u001b[0;32mraise\u001b[0m \u001b[0mKeyError\u001b[0m\u001b[0;34m(\u001b[0m\u001b[0mkey\u001b[0m\u001b[0;34m)\u001b[0m \u001b[0;32mfrom\u001b[0m \u001b[0merr\u001b[0m\u001b[0;34m\u001b[0m\u001b[0;34m\u001b[0m\u001b[0m\n\u001b[0m\u001b[1;32m   3632\u001b[0m             \u001b[0;32mexcept\u001b[0m \u001b[0mTypeError\u001b[0m\u001b[0;34m:\u001b[0m\u001b[0;34m\u001b[0m\u001b[0;34m\u001b[0m\u001b[0m\n\u001b[1;32m   3633\u001b[0m                 \u001b[0;31m# If we have a listlike key, _check_indexing_error will raise\u001b[0m\u001b[0;34m\u001b[0m\u001b[0;34m\u001b[0m\u001b[0m\n",
      "\u001b[0;31mKeyError\u001b[0m: 'Author'"
     ]
    }
   ],
   "source": [
    "matches = []\n",
    "startTime = time.time()\n",
    "for idx in range(len(sparceBooks)):\n",
    "    author = str(sparceBooks.iloc[idx]['Author']).lower()\n",
    "    title = str(sparceBooks.iloc[idx]['Title'])    \n",
    "    titleToken = q3_token.tokenize(title)\n",
    "    \n",
    "    authorid = authorRepo[authorRepo['author_name'].lower() == author][0]['author_id']\n",
    "    \n",
    "    matchFound = ''\n",
    "    repoAuthor = bookRepo[bookRepo['Author'].lower() == author]\n",
    "    for repoIdx in range(len(repoAuthor)):         \n",
    "        repoTitle = str(repoAuthor.iloc[repoIdx]['Title'])        \n",
    "        repoToken = q3_token.tokenize(repoTitle)\n",
    "        cosScoreQ3 = cosine.get_sim_score(titleToken, repoToken)\n",
    "        if(cosScoreQ3 > .68):\n",
    "            matchFound = repoTitle            \n",
    "            break\n",
    "\n",
    "    matches.append([author, title, repoTitle])\n",
    "\n",
    "endTime = time.time()\n",
    "print(endTime-startTime)"
   ]
  },
  {
   "cell_type": "code",
   "execution_count": null,
   "id": "0fa733a2-a66c-42da-b988-986177b74ef9",
   "metadata": {},
   "outputs": [],
   "source": [
    "bookRepo\n",
    "subsetBookRepo = bookRepo[bookRepo['category']"
   ]
  },
  {
   "cell_type": "raw",
   "id": "3ab6b04c-2ff4-4c20-ac92-227e0cb446ad",
   "metadata": {},
   "source": [
    "bookDistrict = sparcebanned['District'].str.cat(sparcebanned['State'], sep='; ').iloc[:6]\n",
    "countyDistrict = sparceCountyInfo['District'].str.cat(sparceCountyInfo['State_y'], sep='; ')"
   ]
  },
  {
   "cell_type": "code",
   "execution_count": null,
   "id": "265f2f9a-635a-4cb8-8fe4-749d63bf60cd",
   "metadata": {},
   "outputs": [],
   "source": [
    "bannedCounty"
   ]
  },
  {
   "cell_type": "code",
   "execution_count": null,
   "id": "58d80f2d-4972-458f-9a8f-d698ab980c1c",
   "metadata": {},
   "outputs": [],
   "source": []
  },
  {
   "cell_type": "code",
   "execution_count": null,
   "id": "22ab03b9-d556-450d-bbd8-4ca67ced0763",
   "metadata": {},
   "outputs": [],
   "source": [
    "bookCounty = bannedBooks.merge(countyInfo, on='District', how='left')"
   ]
  },
  {
   "cell_type": "code",
   "execution_count": null,
   "id": "5fd3e810-b9b8-4943-a464-00c8f2ee48bd",
   "metadata": {},
   "outputs": [],
   "source": [
    "bookCounty['County'].isna().sum()"
   ]
  },
  {
   "cell_type": "markdown",
   "id": "a63cec35-8f1f-4bd8-afa6-a25756ffc4b5",
   "metadata": {},
   "source": [
    "strip unnecessary columns from banned books"
   ]
  },
  {
   "cell_type": "code",
   "execution_count": null,
   "id": "8cbfd4b9-dbf4-4329-8102-4a9daefc6323",
   "metadata": {},
   "outputs": [],
   "source": [
    "columnsToKeep = ['Author', 'Title', 'Type of Ban', 'State', 'District']\n",
    "bannedBooks = bannedBooks[columnsToKeep]"
   ]
  },
  {
   "cell_type": "markdown",
   "id": "0a9f4f1c-046b-43ef-aaec-90771ea7daf3",
   "metadata": {},
   "source": [
    "connect book info to banned book info"
   ]
  },
  {
   "cell_type": "code",
   "execution_count": null,
   "id": "83d166f7-f32c-4fb4-b696-44ff55b76f6d",
   "metadata": {},
   "outputs": [],
   "source": [
    "bannedBookWithInfo = bannedBooks.merge(bookRepo, left_on='Title', right_on='title', how='left')"
   ]
  },
  {
   "cell_type": "code",
   "execution_count": null,
   "id": "7bb8a00e-8db8-47d1-adaf-ca2f3cb5f412",
   "metadata": {},
   "outputs": [],
   "source": [
    "bannedBookWithInfo.columns"
   ]
  },
  {
   "cell_type": "code",
   "execution_count": null,
   "id": "244f1151-a655-4fbe-8b00-6194ab65ffd9",
   "metadata": {},
   "outputs": [],
   "source": [
    "bannedBookWithInfo.head()"
   ]
  },
  {
   "cell_type": "code",
   "execution_count": null,
   "id": "d9998de3-2fcb-4130-8d2f-591c8882a29b",
   "metadata": {},
   "outputs": [],
   "source": [
    "otherdata = pd.read_csv('School District Info/schoolDistrictTopLevelInfo.csv')"
   ]
  },
  {
   "cell_type": "code",
   "execution_count": null,
   "id": "b0b6b43c-de16-4d05-8bfd-8152bfefeced",
   "metadata": {},
   "outputs": [],
   "source": [
    "bookRepFinance = bannedBookWithInfo.merge(finances, left_on='district_lower', right_on='name_lower', how='left')"
   ]
  },
  {
   "cell_type": "code",
   "execution_count": null,
   "id": "5c953d06-8c32-48ef-9f7f-8569bcac8aae",
   "metadata": {},
   "outputs": [],
   "source": [
    "bookRepFinance.isna().sum()"
   ]
  },
  {
   "cell_type": "raw",
   "id": "8754664e-bb1a-4bc0-a36b-7441a86115e0",
   "metadata": {},
   "source": [
    "def getMatch(list1, list2, threshold = .7):    \n",
    "    matches = []\n",
    "    for str1 in list1:        \n",
    "        strMatches = []\n",
    "        for str2 in list2:            \n",
    "            temp = difflib.SequenceMatcher(None,str1 ,str2)\n",
    "            if(temp.ratio() > threshold):\n",
    "                strMatches.append(str2)\n",
    "        matches.append([str1, strMatches])\n",
    "        \n",
    "    return matches;"
   ]
  },
  {
   "cell_type": "raw",
   "id": "186d6832-fda8-4f9b-86c3-193a5a1c6eda",
   "metadata": {
    "jupyter": {
     "outputs_hidden": true
    },
    "tags": []
   },
   "source": [
    "startTime = time.time()\n",
    "titleMatches = getMatch(bookTitles, repoTitle, .7)\n",
    "endTime = time.time()\n",
    "print(endTime - startTime)"
   ]
  },
  {
   "cell_type": "raw",
   "id": "378454f0-03c0-4e4a-bdc0-241e3239e738",
   "metadata": {},
   "source": [
    "def getCountyDistrictSimliarMatches(list1, list2, threshold = .7):    \n",
    "    matches = []\n",
    "    for str1 in list1:\n",
    "        str1 = str(str1)\n",
    "        str1Token = q3_token.tokenize(str1)\n",
    "        strMatches = []\n",
    "        for str2 in list2:  \n",
    "            str2 = str(str2)\n",
    "            q3TokenSample = q3_token.tokenize(str2)\n",
    "            cosScoreQ3 = cosine.get_sim_score(str1Token, q3TokenSample)\n",
    "            print(cosScoreQ3)\n",
    "            if(cosScoreQ3 > threshold):\n",
    "                strMatches = str2\n",
    "                break\n",
    "                \n",
    "        matches.append([str1, strMatches])\n",
    "        \n",
    "    return matches;"
   ]
  },
  {
   "cell_type": "raw",
   "id": "054c3121-c75a-400c-abe5-f32fa7f08365",
   "metadata": {},
   "source": [
    "repoTitle = list(set([str(x) for x in bookRepo['title']]))\n",
    "bookTitles = list(set([str(x) for x in bannedBooks['Title']]))\n",
    "q3_token = sm.QgramTokenizer(qval=3)\n",
    "cosine = cos.Cosine()"
   ]
  },
  {
   "cell_type": "raw",
   "id": "af9d765c-4518-43c9-b8eb-482265bd37bc",
   "metadata": {},
   "source": [
    "def getSimliarMatches(list1, list2, threshold = .7):    \n",
    "    matches = []\n",
    "    for str1 in list1:\n",
    "        str1Token = q3_token.tokenize(str1)\n",
    "        strMatches = []\n",
    "        for str2 in list2:            \n",
    "            q3TokenSample = q3_token.tokenize(str2)\n",
    "            cosScoreQ3 = cosine.get_sim_score(str1Token, q3TokenSample)\n",
    "            if(cosScoreQ3 < threshold):\n",
    "                strMatches.append(str2)\n",
    "        matches.append([str1, strMatches])\n",
    "        \n",
    "    return matches;"
   ]
  },
  {
   "cell_type": "raw",
   "id": "42803c0e-47e9-48ba-8f24-e6313b5fb4ce",
   "metadata": {
    "tags": []
   },
   "source": [
    "startTime = time.time()\n",
    "titleMatches = getSimliarMatches(bookTitles, repoTitle, .7)\n",
    "endTime = time.time()\n",
    "print(endTime - startTime)"
   ]
  },
  {
   "cell_type": "raw",
   "id": "b2bc3626-f1ef-4998-b958-d7b540c2adb3",
   "metadata": {
    "jupyter": {
     "outputs_hidden": true
    },
    "tags": []
   },
   "source": [
    "matches = bannedBooks['Title'].apply(lambda x: process.extract(x, repoTitle, limit=2))    \n",
    "matches.head()"
   ]
  },
  {
   "cell_type": "raw",
   "id": "4bdfefd2-f8a2-462a-bcfe-222ce1404e1e",
   "metadata": {
    "jupyter": {
     "outputs_hidden": true
    },
    "tags": []
   },
   "source": [
    "matches = bannedBooks['Title'].apply(lambda x: process.extract(x, repoTitle, limit=2))    \n",
    "bannedBooks['matches'] = matches\n",
    "\n",
    "m2 = bannedBooks['matches'].apply(lambda x: ', '.join([i[0] for i in x if i[1] >= threshold]))\n",
    "bannedBooks['matches'] = m2    "
   ]
  },
  {
   "cell_type": "code",
   "execution_count": null,
   "id": "7b21a127-4780-49d3-b639-8fc3cb05de3f",
   "metadata": {},
   "outputs": [],
   "source": []
  },
  {
   "cell_type": "code",
   "execution_count": null,
   "id": "65b99c1a-1003-4508-9273-8bc99fdaf072",
   "metadata": {},
   "outputs": [],
   "source": [
    "otherdata"
   ]
  },
  {
   "cell_type": "markdown",
   "id": "ba2d2bea-df47-456c-8b34-7731748fee47",
   "metadata": {},
   "source": [
    "both datasources have LEAID thank the fuck"
   ]
  },
  {
   "cell_type": "code",
   "execution_count": null,
   "id": "155b67dd-a178-4c03-90f3-83852188cb13",
   "metadata": {},
   "outputs": [],
   "source": []
  }
 ],
 "metadata": {
  "kernelspec": {
   "display_name": "Python 3 (ipykernel)",
   "language": "python",
   "name": "python3"
  },
  "language_info": {
   "codemirror_mode": {
    "name": "ipython",
    "version": 3
   },
   "file_extension": ".py",
   "mimetype": "text/x-python",
   "name": "python",
   "nbconvert_exporter": "python",
   "pygments_lexer": "ipython3",
   "version": "3.9.13"
  }
 },
 "nbformat": 4,
 "nbformat_minor": 5
}
