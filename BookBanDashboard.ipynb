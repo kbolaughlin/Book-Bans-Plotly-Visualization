{
 "cells": [
  {
   "cell_type": "markdown",
   "id": "c2291164-2b3f-4fae-a268-1aa110696222",
   "metadata": {},
   "source": [
    "### Book Banning in United States - Kate O'Laughlin"
   ]
  },
  {
   "cell_type": "markdown",
   "id": "fb551cf4-09ef-4cc5-81d9-0722a5c6fad0",
   "metadata": {},
   "source": [
    "#### Table of Contents:\n",
    "* [Library Plot](#LibraryPlot)\n",
    "* [Book Ban Plot](#BookBanPlot)\n",
    "* [Funding Per Student Plot](#fundingPlot)\n",
    "* [Education Scores Plot](#EduScoresPlot)\n",
    "* [Demographic Data Plot](#demographicPlot)\n",
    "* [Book Ban Plot](#BookBanPlot)"
   ]
  },
  {
   "cell_type": "code",
   "execution_count": 1,
   "id": "b879573e-0461-4176-b9be-e9b61ac5c85f",
   "metadata": {
    "tags": []
   },
   "outputs": [],
   "source": [
    "# use necessary libraries\n",
    "#!pip install dash-daq\n",
    "\n",
    "import pandas as pd\n",
    "import numpy as np\n",
    "import plotly.graph_objects as go\n",
    "from dash import Dash, dcc, html, Input, Output, State\n",
    "import dash_daq as daq\n",
    "import dash_bootstrap_components as dbc\n",
    "import plotly.express as px\n",
    "from plotly.subplots import make_subplots\n",
    "import json"
   ]
  },
  {
   "cell_type": "code",
   "execution_count": 2,
   "id": "7eea556d-2b4c-433b-9a9e-eaecacfde452",
   "metadata": {},
   "outputs": [
    {
     "name": "stderr",
     "output_type": "stream",
     "text": [
      "/tmp/ipykernel_53934/3283057314.py:5: DtypeWarning: Columns (2,17,18,19,20,21,22,23,24,25,26,27,28,29,30,34,35,36,37,39,40,41,42,43,44,45,46,47,48,49,50,51,52,53,54,55,56,57,58,59,60,61,62,63,64,65,66,67,68,69,70,71) have mixed types. Specify dtype option on import or set low_memory=False.\n",
      "  library = pd.read_csv('data/public library data/libraries.csv')\n"
     ]
    }
   ],
   "source": [
    "#Import all needed datasets\n",
    "bannedBooks = pd.read_excel('data/banned book data/bannedBooks.xlsx', header=[2], \\\n",
    "                           usecols=['Author', 'Title', 'Type of Ban', 'State', \\\n",
    "                                    'District', 'Date of Challenge/Removal'])\n",
    "library = pd.read_csv('data/public library data/libraries.csv')\n",
    "stateLibrary = pd.read_csv('data/public library data/states.csv')\n",
    "stateEdu = pd.read_csv('data/stateEducation/states_all.csv')\n",
    "stateCode = pd.read_csv('data/stateCode/state_abbrev.csv')\n",
    "stateScores = pd.read_csv('data/stateEducation/naep_states_summary.csv')\n",
    "stateDemo = pd.read_csv('data/stateEducation/NCES_Enroll_G_9_12.csv', sep=',', header=3)\n",
    "statesJson = open('data/us-states.json')\n",
    "states = json.load(statesJson)"
   ]
  },
  {
   "cell_type": "markdown",
   "id": "428817ad-df4a-45a7-89b7-2b8e601a61ab",
   "metadata": {},
   "source": [
    "-----------------------------------------------"
   ]
  },
  {
   "cell_type": "markdown",
   "id": "d3e7c024-f657-4a2c-a716-689ad4853aab",
   "metadata": {},
   "source": [
    "#### Create Library Plot <span id='LibraryPlot'>"
   ]
  },
  {
   "cell_type": "code",
   "execution_count": 3,
   "id": "047d922e-9415-486e-8a05-d572d3136023",
   "metadata": {},
   "outputs": [],
   "source": [
    "libraryCustomData = library[['Library Name', 'Street Address', 'City', \\\n",
    "                            'Zip Code', 'Young Adult Programs']].to_numpy()"
   ]
  },
  {
   "cell_type": "code",
   "execution_count": 4,
   "id": "2da5d5e5-a104-44a2-b747-f4ac9b4509fe",
   "metadata": {},
   "outputs": [],
   "source": [
    "#overlay library locations on Chloropleth Map\n",
    "def addLibraries(fig):\n",
    "    fig.add_trace(go.Scattermapbox(\n",
    "        lat=library.Latitude,\n",
    "        lon=library.Longitude,\n",
    "        mode='markers',\n",
    "        marker=go.scattermapbox.Marker(\n",
    "            size=12,\n",
    "            color='rgb(127, 134, 230)',\n",
    "            opacity=0.7\n",
    "        ),\n",
    "        text=library['Library Name'],\n",
    "        customdata=libraryCustomData,\n",
    "        hovertemplate=\n",
    "        \"<b>%{customdata[0]}</b><br>\" +\n",
    "        \"Address: %{customdata[1]}, %{customdata[2]}, %{customdata[3]}<br>\" +        \n",
    "        \"Number of Young Adult Programs: %{customdata[4]}<br>\",\n",
    "        marker_size=4,\n",
    "        ))\n",
    "    \n",
    "    return fig"
   ]
  },
  {
   "cell_type": "markdown",
   "id": "da06ba6e-9300-41aa-a9cd-e41c054cfd37",
   "metadata": {},
   "source": [
    "------------------------------------"
   ]
  },
  {
   "cell_type": "markdown",
   "id": "c8111524-9a0b-4b4a-ab0a-a381830f5b2a",
   "metadata": {},
   "source": [
    "#### Set Up Banned Book Plot <span id='BookBanPlot'>"
   ]
  },
  {
   "cell_type": "code",
   "execution_count": 5,
   "id": "fa7814d2-cbac-432e-a696-5b9927815f08",
   "metadata": {},
   "outputs": [
    {
     "name": "stdout",
     "output_type": "stream",
     "text": [
      "      State  # of Book Bans Code\n",
      "0    Alaska               1   AK\n",
      "1  Arkansas               1   AR\n",
      "2   Florida             566   FL\n",
      "3   Georgia              23   GA\n",
      "4     Idaho              26   ID\n"
     ]
    }
   ],
   "source": [
    "# per State, list out the Author, Book, and Number of Bans on each book\n",
    "\n",
    "stateBooks = bannedBooks.groupby('State').count()\n",
    "# merge in stateCode df for easy joining between future table merges\n",
    "stateBooks = stateBooks.merge(stateCode, left_on='State', right_on='State', how='left')\n",
    "stateBooks = stateBooks[['State', 'Author', 'Code']]\n",
    "\n",
    "totalBooks = stateBooks.rename(columns={'Author': '# of Book Bans'})\n",
    "\n",
    "print(totalBooks.head(5))"
   ]
  },
  {
   "cell_type": "code",
   "execution_count": 6,
   "id": "2a323aab-43c6-44d5-9e8b-4ea18a2f49b3",
   "metadata": {},
   "outputs": [],
   "source": [
    "#merged state codes in which banned books df\n",
    "bannedBooks = bannedBooks.merge(stateCode, on='State', how='left')"
   ]
  },
  {
   "cell_type": "code",
   "execution_count": 7,
   "id": "6b445fed-f0f5-4edb-aa74-719ed0f527d8",
   "metadata": {
    "tags": []
   },
   "outputs": [
    {
     "name": "stdout",
     "output_type": "stream",
     "text": [
      "      State  # of Book Bans Code  \\\n",
      "0    Alaska               1   AK   \n",
      "1  Arkansas               1   AR   \n",
      "2   Florida             566   FL   \n",
      "3   Georgia              23   GA   \n",
      "4     Idaho              26   ID   \n",
      "\n",
      "                                              Titles  \n",
      "0                             Gender Queer: A Memoir  \n",
      "1        Beyond Magenta: Transgender Teens Speak Out  \n",
      "2  The Hate U Give<br>Thirteen Reasons Why<br>Nin...  \n",
      "3  The Absolutely True Diary of a Part-Time India...  \n",
      "4  Leah on the Offbeat (Simonverse Series)<br>The...  \n"
     ]
    }
   ],
   "source": [
    "#added top 5 titles to the book ban aggrated by state df\n",
    "booksPerState = []\n",
    "\n",
    "for idx, row in totalBooks.iterrows():\n",
    "    state = row['Code']\n",
    "    bookNames = pd.value_counts(np.array(bannedBooks[bannedBooks['Code'] == state]\\\n",
    "                                         ['Title']))[0:5].index   \n",
    "    booksPerState.append([state, '<br>'.join([str(x) for x in bookNames])])\n",
    "    \n",
    "booksPerStateDf = pd.DataFrame(booksPerState, columns=['Code', 'Titles'])\n",
    "\n",
    "totalBooks = totalBooks.merge(booksPerStateDf, on='Code', how='left')  \n",
    "\n",
    "print(pd.DataFrame(totalBooks.head(5)))"
   ]
  },
  {
   "cell_type": "markdown",
   "id": "4d096195-b7ab-40d6-a4e4-8612482782bb",
   "metadata": {},
   "source": [
    "-------------------------------------------"
   ]
  },
  {
   "cell_type": "markdown",
   "id": "c32985ab-48cc-487e-a201-239bdf37fead",
   "metadata": {},
   "source": [
    "#### Set up School Funding Plot <span id='fundingPlot'>"
   ]
  },
  {
   "cell_type": "code",
   "execution_count": 8,
   "id": "3e6b29ce-9753-4c98-b3ca-3c86c3e0f4fb",
   "metadata": {},
   "outputs": [
    {
     "name": "stderr",
     "output_type": "stream",
     "text": [
      "/tmp/ipykernel_53934/2888662475.py:5: SettingWithCopyWarning: \n",
      "A value is trying to be set on a copy of a slice from a DataFrame.\n",
      "Try using .loc[row_indexer,col_indexer] = value instead\n",
      "\n",
      "See the caveats in the documentation: https://pandas.pydata.org/pandas-docs/stable/user_guide/indexing.html#returning-a-view-versus-a-copy\n",
      "  funding['STATE'] = funding['STATE'].str.title()\n"
     ]
    }
   ],
   "source": [
    "# select and format funding dataframe to be used in the plots\n",
    "funding = stateEdu[stateEdu['YEAR'] == 2016]\n",
    "\n",
    "#format state names\n",
    "funding['STATE'] = funding['STATE'].str.title()\n",
    "funding = funding.merge(stateCode, left_on='STATE', right_on='State', how='left')\n",
    "\n",
    "#generate proper funding values\n",
    "funding['Funding Per Student'] = funding['TOTAL_REVENUE']/funding['ENROLL']\n",
    "funding['Funding Per Student Dollar'] = (funding['Funding Per Student']).apply(lambda x: '${:,.2f}'.format(x))"
   ]
  },
  {
   "cell_type": "code",
   "execution_count": 9,
   "id": "06439e07-d658-4a55-b4a0-a006d5abda11",
   "metadata": {},
   "outputs": [],
   "source": [
    "#create funding plots\n",
    "def revenueMap():\n",
    "    fundingDf = funding[['STATE', 'YEAR', 'ENROLL', \n",
    "                           'TOTAL_REVENUE', 'Code',\n",
    "                           'Funding Per Student', 'Funding Per Student Dollar']]\n",
    "    fundingDf = fundingDf.sort_values(by='Funding Per Student', ascending = False)\n",
    "    fundingDf['STATE'] = fundingDf['STATE'].str.replace('_', ' ')\n",
    "    \n",
    "    # merge in total books to show values in tooltip\n",
    "    mergedDf = fundingDf.merge(totalBooks, on='Code', how='left')\n",
    "    \n",
    "    fig = px.scatter(mergedDf, color='STATE', x='# of Book Bans', y='Funding Per Student', \n",
    "                 hover_data=['STATE', 'Funding Per Student Dollar'])\n",
    "    fig.update_layout(xaxis_tickangle=-45)\n",
    "\n",
    "    return fig\n",
    "\n",
    "def singleRevenueMap(states):\n",
    "    fundingDf = funding[['STATE', 'YEAR', 'ENROLL', \n",
    "                           'TOTAL_REVENUE', 'Code',\n",
    "                           'Funding Per Student', 'Funding Per Student Dollar']] \n",
    "    if states != None:\n",
    "        statefunding = fundingDf[fundingDf['Code'].isin(states)]\n",
    "    else:\n",
    "        statefunding = fundingDf\n",
    "    \n",
    "    statefunding = statefunding.merge(totalBooks, on='Code', how='left')\n",
    "    statefunding['# of Book Bans'] = statefunding['# of Book Bans'].fillna(0)\n",
    "    \n",
    "    statefunding = statefunding.sort_values(by='Funding Per Student', ascending = False)\n",
    "    statefunding['STATE'] = statefunding['STATE'].str.replace('_', ' ')    \n",
    "    enrollfig = px.scatter(statefunding,\n",
    "                       x='# of Book Bans', y='Funding Per Student', color='STATE', title='Funding Per Student')\n",
    "    enrollfig.update_layout(yaxis_title='Funding Per Student', yaxis_range=[0, 30])\n",
    "    \n",
    "    \n",
    "    return enrollfig"
   ]
  },
  {
   "cell_type": "markdown",
   "id": "b1045166-f20b-40e1-aba5-de1ed2104cda",
   "metadata": {},
   "source": [
    "---------------------------------------"
   ]
  },
  {
   "cell_type": "markdown",
   "id": "7622f493-25b3-4602-982d-4690f86e7015",
   "metadata": {},
   "source": [
    "#### Set up Education Scores Plot <span id='EduScoresPlot'>"
   ]
  },
  {
   "cell_type": "code",
   "execution_count": 10,
   "id": "f1162a3f-cb28-4585-bc82-baba0013ab38",
   "metadata": {},
   "outputs": [],
   "source": [
    "# get education scores and do cleanup\n",
    "stateScores = stateScores[stateScores['YEAR'] == 2019][['STATE', 'YEAR', 'AVG_MATH_8_SCORE', 'AVG_READING_8_SCORE']]\n",
    "stateScores['STATE'] = stateScores['STATE'].str.replace('_', ' ')\n",
    "stateScores['STATE'] = stateScores['STATE'].str.title()\n",
    "stateScores = stateScores.merge(stateCode, left_on='STATE', right_on='State', how='left')"
   ]
  },
  {
   "cell_type": "code",
   "execution_count": 11,
   "id": "11f4d3ff-b26a-4d99-aabb-f55eea7431cf",
   "metadata": {},
   "outputs": [],
   "source": [
    "# get national scores \n",
    "# generate state specific math/reading columns that is the score - national average\n",
    "# due to low differentiation in scores, this gives users an easier vis to compare states\n",
    "national = stateScores[stateScores['STATE'] == 'National']\n",
    "natReading = national['AVG_READING_8_SCORE'].iloc[0]\n",
    "natMath = national['AVG_MATH_8_SCORE'].iloc[0]\n",
    "\n",
    "stateScores['Math'] = stateScores['AVG_MATH_8_SCORE'] - natMath\n",
    "stateScores['Reading'] = stateScores['AVG_READING_8_SCORE'] - natReading\n",
    "\n",
    "stateScores = stateScores.sort_values(by=['Math', 'Reading'], ascending=False)"
   ]
  },
  {
   "cell_type": "code",
   "execution_count": 12,
   "id": "efc54d3f-7133-40cf-85f5-1a9dceb12ba4",
   "metadata": {},
   "outputs": [],
   "source": [
    "#create academic score plots\n",
    "def createEduScoreFig():\n",
    "    fig = px.histogram(stateScores, x=\"Code\", y=[\"Math\", \"Reading\"],\n",
    "                 barmode='group', \n",
    "                 title='Math and Reading Scores Compared to National Average')\n",
    "    fig.update_layout(\n",
    "        xaxis_title_text='State', # xaxis label\n",
    "        yaxis_title_text='Score', # yaxis label\n",
    "        xaxis_tickangle=-45,\n",
    "        legend_title = 'Score Subject',\n",
    "        bargap=0.2, # gap between bars of adjacent location coordinates\n",
    "        bargroupgap=0.1 # gap between bars of the same location coordinates\n",
    "    )\n",
    "    \n",
    "    return fig\n",
    "\n",
    "\n",
    "def createSingleEduScoreFig(states):\n",
    "     \n",
    "    if states != None:\n",
    "        scoresToShow = stateScores[stateScores['Code'].isin(states)]\n",
    "    else:\n",
    "        scoresToShow = stateScores    \n",
    "    \n",
    "    fig = px.histogram(scoresToShow, x='Code', y=[\"Math\", \"Reading\"], \n",
    "                 barmode='group', \n",
    "                 title='Math and Reading Scores Compared to National Average')\n",
    "    fig.update_layout(\n",
    "        xaxis_title_text='State', # xaxis label\n",
    "        yaxis_title_text='Score', # yaxis label        \n",
    "        xaxis_tickangle=-45,\n",
    "        yaxis_range=[-15,15],\n",
    "        legend_title = 'Score Subject',\n",
    "        bargap=0.2, # gap between bars of adjacent location coordinates\n",
    "        bargroupgap=0.1 # gap between bars of the same location coordinates\n",
    "    )\n",
    "    \n",
    "    \n",
    "    return fig"
   ]
  },
  {
   "cell_type": "markdown",
   "id": "d236ece7-b474-4a77-941f-032d71e1d8e4",
   "metadata": {},
   "source": [
    "--------------------------------"
   ]
  },
  {
   "cell_type": "markdown",
   "id": "14b5cfe9-3b66-436d-9150-1a152cec7341",
   "metadata": {},
   "source": [
    "#### Set up Demographic Data Plot <span id='demographicPlot'>"
   ]
  },
  {
   "cell_type": "code",
   "execution_count": 13,
   "id": "c2437f56-f1f8-4ce5-a47d-3eee6738d8b2",
   "metadata": {},
   "outputs": [],
   "source": [
    "#extract only columns that are in the most recent year in the dataset\n",
    "#merge in state codes\n",
    "columnsToKeepMetric = stateDemo.columns[stateDemo.columns.str.endswith('2016-17')].tolist()\n",
    "columnsToKeep = [\"State Name\"]\n",
    "columnsToKeep.extend(columnsToKeepMetric)\n",
    "stateDemo = stateDemo[columnsToKeep]\n",
    "stateDemo = stateDemo.rename(columns={'State Name':'State'})"
   ]
  },
  {
   "cell_type": "code",
   "execution_count": 14,
   "id": "0be05537-e9e5-40c1-a26f-9593be197073",
   "metadata": {},
   "outputs": [],
   "source": [
    "#clean state demographic data\n",
    "stateDemo = stateDemo.replace('†', 0)\n",
    "stateDemo = stateDemo.replace('–', 0)\n",
    "stateDemo = stateDemo.replace('=\"0\"', 0)\n",
    "stateDemo = stateDemo.fillna(0)\n",
    "\n",
    "stateDemo[columnsToKeepMetric] = stateDemo[columnsToKeepMetric].astype(float)"
   ]
  },
  {
   "cell_type": "code",
   "execution_count": 15,
   "id": "747d5808-e2d2-4603-8c44-bbef23d95ba2",
   "metadata": {},
   "outputs": [],
   "source": [
    "listOfStates = stateDemo['State'][:51].str.lower().unique().tolist()"
   ]
  },
  {
   "cell_type": "code",
   "execution_count": 16,
   "id": "fd167cb1-9f0c-4e16-8e38-b3162dc73ced",
   "metadata": {},
   "outputs": [],
   "source": [
    "#aggreate columns on demographics\n",
    "#demographics were seperated by class year and we want an aggregate\n",
    "whiteColumns = [col for col in stateDemo.columns if 'White' in col]\n",
    "indianColumns = [col for col in stateDemo.columns if 'American Indian/Alaska Native' in col]\n",
    "asianColumns = [col for col in stateDemo.columns if 'Asian' in col]\n",
    "hispanicColumns = [col for col in stateDemo.columns if 'Hispanic' in col]\n",
    "blackColumns = [col for col in stateDemo.columns if 'Black' in col]\n",
    "hawaiianColumns = [col for col in stateDemo.columns if 'Hawaiian' in col]\n",
    "twoRaceColumns = [col for col in stateDemo.columns if 'Two or More' in col]\n",
    "colGroups = {'White': whiteColumns, \n",
    "             'AmericanIndian': indianColumns,\n",
    "             'Asian': asianColumns,\n",
    "             'Hispanic': hispanicColumns, \n",
    "             'Black': blackColumns,\n",
    "             'Hawaiian': hawaiianColumns,\n",
    "             'Two Or More': twoRaceColumns}"
   ]
  },
  {
   "cell_type": "code",
   "execution_count": 17,
   "id": "1396c5a0-816b-4af9-8e5d-9bbe8485dfef",
   "metadata": {},
   "outputs": [],
   "source": [
    "demographicData = pd.DataFrame(listOfStates, columns = ['State'])"
   ]
  },
  {
   "cell_type": "code",
   "execution_count": 18,
   "id": "1d00e927-4488-4ba2-a5fe-c5eb7604e2f9",
   "metadata": {
    "tags": []
   },
   "outputs": [],
   "source": [
    "#aggregate demographic data\n",
    "for key in colGroups:\n",
    "    group = colGroups[key]    \n",
    "    group.append('State')\n",
    "    groupInfo = stateDemo[group].groupby(stateDemo['State'].str.lower()).sum().sum(axis=1)\n",
    "    groupDf = groupInfo.to_frame().reset_index()\n",
    "    groupDf = groupDf.rename(columns={0: key})\n",
    "    demographicData = demographicData.merge(groupDf, on='State', how='left')"
   ]
  },
  {
   "cell_type": "code",
   "execution_count": 19,
   "id": "fa133b5f-cc02-40bf-bc69-593423495d0b",
   "metadata": {},
   "outputs": [
    {
     "name": "stderr",
     "output_type": "stream",
     "text": [
      "/tmp/ipykernel_53934/2913990234.py:1: FutureWarning: Dropping of nuisance columns in DataFrame reductions (with 'numeric_only=None') is deprecated; in a future version this will raise TypeError.  Select only valid columns before calling the reduction.\n",
      "  demographicData['Total'] = demographicData.sum(axis=1)\n"
     ]
    }
   ],
   "source": [
    "demographicData['Total'] = demographicData.sum(axis=1)\n",
    "demographicData['State'] = demographicData['State'].str.title()"
   ]
  },
  {
   "cell_type": "code",
   "execution_count": 20,
   "id": "9f81dee1-ec6a-47a6-8c8c-017e27f05eb0",
   "metadata": {},
   "outputs": [],
   "source": [
    "columns = ['White', 'AmericanIndian', 'Asian', \n",
    "    'Hispanic', 'Black','Hawaiian', 'Two Or More']\n",
    "\n",
    "for col in columns:\n",
    "    demographicData[col + ' %'] = (demographicData[col]/demographicData['Total']) *100"
   ]
  },
  {
   "cell_type": "code",
   "execution_count": 21,
   "id": "f553fa84-fe23-4f99-883f-9249f1ec6150",
   "metadata": {},
   "outputs": [],
   "source": [
    "demographicData = demographicData.sort_values(by='State')"
   ]
  },
  {
   "cell_type": "code",
   "execution_count": 22,
   "id": "5bfc895a-4992-4550-9d80-49c976d2e180",
   "metadata": {},
   "outputs": [],
   "source": [
    "#plot demographic data\n",
    "def createDemographicData():\n",
    "    fig = go.Figure()\n",
    "    fig.add_trace(go.Bar(\n",
    "        y=demographicData[\"White %\"],\n",
    "        x=demographicData.State,\n",
    "        name=\"White\",\n",
    "        marker=dict(\n",
    "            color='RGB (0, 149, 168)',\n",
    "            line=dict(color='RGB (0, 149, 168)', width=0.05)\n",
    "        )\n",
    "    ))\n",
    "    fig.add_trace(go.Bar(\n",
    "        y=demographicData[\"AmericanIndian %\"],\n",
    "        x=demographicData.State,\n",
    "        name=\"American Indian/Alaska Native\",\n",
    "        marker=dict(\n",
    "            color='RGB (17, 46, 81)',\n",
    "            line=dict(color='RGB (17, 46, 81)', width=0.05)\n",
    "        )\n",
    "    ))\n",
    "    fig.add_trace(go.Bar(\n",
    "        y=demographicData[\"Asian %\"],\n",
    "        x=demographicData.State,\n",
    "        name=\"Asian\",\n",
    "        marker=dict(\n",
    "            color='RGB (255, 112, 67)',\n",
    "            line=dict(color='RGB (255, 112, 67)', width=0.05)\n",
    "        )\n",
    "    ))\n",
    "\n",
    "    fig.add_trace(go.Bar(\n",
    "        y=demographicData[\"Hispanic %\"],\n",
    "        x=demographicData.State,\n",
    "        name=\"Hispanic\",\n",
    "        marker=dict(\n",
    "            color='RGB (120, 144, 156)',\n",
    "            line=dict(color='RGB (120, 144, 156)', width=0.05)\n",
    "        )\n",
    "    ))\n",
    "\n",
    "    fig.add_trace(go.Bar(\n",
    "        y=demographicData[\"Black %\"],\n",
    "        x=demographicData.State,\n",
    "        name=\"Black\",\n",
    "        marker=dict(\n",
    "            color='RGB (46, 120, 210)',\n",
    "            line=dict(color='RGB (46, 120, 210)', width=0.05)\n",
    "        )\n",
    "    ))\n",
    "\n",
    "    fig.add_trace(go.Bar(\n",
    "        y=demographicData[\"Hawaiian %\"],\n",
    "        x=demographicData.State,\n",
    "        name=\"Hawaiian\",\n",
    "        marker=dict(\n",
    "            color='RGB (0, 108, 122)',\n",
    "            line=dict(color='RGB (0, 108, 122)', width=0.05)\n",
    "        )\n",
    "    ))\n",
    "\n",
    "    fig.add_trace(go.Bar(\n",
    "        y=demographicData[\"Two Or More %\"],\n",
    "        x=demographicData.State,\n",
    "        name=\"Two Or More Races\",\n",
    "        marker=dict(\n",
    "            color='RGB (255, 151, 118)',\n",
    "            line=dict(color='RGB (255, 151, 118)', width=0.05)\n",
    "        )\n",
    "    ))\n",
    "    fig.update_layout(\n",
    "            yaxis=dict(\n",
    "            title_text=\"Demographic %\",\n",
    "            #ticktext=[\"0%\", \"20%\", \"40%\", \"60%\",\"80%\",\"100%\"]\n",
    "            #tickvals=[0, 20, 40, 60, 80, 100],\n",
    "            tickmode=\"array\",        \n",
    "            titlefont=dict(size=15),\n",
    "        ),\n",
    "        autosize=False,\n",
    "        paper_bgcolor='rgba(0,0,0,0)',\n",
    "        plot_bgcolor='rgba(0,0,0,0)',\n",
    "        title={\n",
    "            'text': \"State Demographics\",        \n",
    "            'yanchor': 'top'},\n",
    "        barmode='stack')\n",
    "\n",
    "    fig.update_xaxes(tickangle=-45)\n",
    "\n",
    "    return fig\n",
    "\n",
    "def createSingleDemographicData(states):    \n",
    "    \n",
    "    fig = make_subplots(rows=3, cols=3,\n",
    "                subplot_titles=(\"White\",\"American Indian/Alaskan Native\",\n",
    "                                \"Asian\", \"Hispanic\", \"Black\", \"Hawaiian\", \n",
    "                                \"Two Or More Races\"),\n",
    "                       vertical_spacing = 0.3)\n",
    "    \n",
    "    demoStateData = demographicData.merge(stateCode, on='State', how='left')\n",
    "\n",
    "    if states != None:\n",
    "        demoStateData = demoStateData[demoStateData['Code'].isin(states)]   \n",
    "   \n",
    "    fig.append_trace(go.Bar(\n",
    "        y=demoStateData[\"White %\"],\n",
    "        x=demoStateData.Code,\n",
    "        name=\"White\",\n",
    "        marker=dict(\n",
    "            color='RGB (0, 149, 168)',\n",
    "            line=dict(color='RGB (0, 149, 168)', width=0.05)\n",
    "        )\n",
    "    ), row=1, col=1)\n",
    "    fig.append_trace(go.Bar(\n",
    "        y=demoStateData[\"AmericanIndian %\"],\n",
    "        x=demoStateData.Code,\n",
    "        name=\"American Indian/Alaska Native\",\n",
    "        marker=dict(\n",
    "            color='RGB (17, 46, 81)',\n",
    "            line=dict(color='RGB (17, 46, 81)', width=0.05)\n",
    "        )\n",
    "    ), row=1, col=2)\n",
    "    fig.append_trace(go.Bar(\n",
    "        y=demoStateData[\"Asian %\"],\n",
    "        x=demoStateData.Code,\n",
    "        name=\"Asian\",\n",
    "        marker=dict(\n",
    "            color='RGB (255, 112, 67)',\n",
    "            line=dict(color='RGB (255, 112, 67)', width=0.05)\n",
    "        )\n",
    "    ), row=1, col=3)\n",
    "\n",
    "    fig.append_trace(go.Bar(\n",
    "        y=demoStateData[\"Hispanic %\"],\n",
    "        x=demoStateData.Code,\n",
    "        name=\"Hispanic\",\n",
    "        marker=dict(\n",
    "            color='RGB (120, 144, 156)',\n",
    "            line=dict(color='RGB (120, 144, 156)', width=0.05)\n",
    "        )\n",
    "    ), row=2, col=1)\n",
    "\n",
    "    fig.append_trace(go.Bar(\n",
    "        y=demoStateData[\"Black %\"],\n",
    "        x=demoStateData.Code,\n",
    "        name=\"Black\",\n",
    "        marker=dict(\n",
    "            color='RGB (46, 120, 210)',\n",
    "            line=dict(color='RGB (46, 120, 210)', width=0.05)\n",
    "        )\n",
    "    ), row=2, col=2)\n",
    "\n",
    "    fig.append_trace(go.Bar(\n",
    "        y=demoStateData[\"Hawaiian %\"],\n",
    "        x=demoStateData.Code,\n",
    "        name=\"Hawaiian\",\n",
    "        marker=dict(\n",
    "            color='RGB (0, 108, 122)',\n",
    "            line=dict(color='RGB (0, 108, 122)', width=0.05)\n",
    "        )\n",
    "    ), row=2, col=3)\n",
    "\n",
    "    fig.append_trace(go.Bar(\n",
    "        y=demoStateData[\"Two Or More %\"],\n",
    "        x=demoStateData.Code,\n",
    "        name=\"Two Or More Races\",\n",
    "        marker=dict(\n",
    "            color='RGB (255, 151, 118)',\n",
    "            line=dict(color='RGB (255, 151, 118)', width=0.05)\n",
    "        )\n",
    "    ), row=3, col=1)\n",
    "\n",
    "    fig.update_layout(\n",
    "            legend=dict(\n",
    "                orientation=\"h\",\n",
    "                yanchor=\"top\",\n",
    "                y=1.15,\n",
    "                xanchor=\"right\",\n",
    "                x=1\n",
    "            ),\n",
    "            yaxis=dict(range=[0, 100]), \n",
    "            yaxis2=dict(range=[0, 100]), \n",
    "            yaxis3=dict(range=[0, 100]), \n",
    "            yaxis4=dict(range=[0, 100]), \n",
    "            yaxis5=dict(range=[0, 100]), \n",
    "            yaxis6=dict(range=[0, 100]), \n",
    "            yaxis7=dict(range=[0, 100]),             \n",
    "           \n",
    "        autosize=False,\n",
    "        width=1200,\n",
    "        height=600,\n",
    "        paper_bgcolor='rgba(0,0,0,0)',\n",
    "        plot_bgcolor='rgba(0,0,0,0)',\n",
    "        title={\n",
    "            'text': \"State Demographics\",        \n",
    "            'yanchor': 'top'},\n",
    "        barmode='stack')     \n",
    "\n",
    "    fig.update_xaxes(tickangle=45)    \n",
    "    \n",
    "    return fig"
   ]
  },
  {
   "cell_type": "code",
   "execution_count": 23,
   "id": "7ecb7dfb-f2b5-4719-89fe-97ddd5de93c9",
   "metadata": {},
   "outputs": [],
   "source": [
    "#build map of book bans\n",
    "def chloroplethMap(switch):\n",
    "    df = totalBooks\n",
    "    locationCol = 'Code'\n",
    "    colorCol = '# of Book Bans'\n",
    "    label = '# of Book Bans'\n",
    "    \n",
    "    fig = px.choropleth_mapbox(df, geojson=states, \n",
    "                           locations=locationCol, \n",
    "                           color=colorCol,\n",
    "                           color_continuous_scale=\"brwnyl\",\n",
    "                           range_color=(0, df[colorCol].max()),\n",
    "                           mapbox_style=\"carto-positron\",\n",
    "                           labels = df[label],\n",
    "                           zoom=2.75, \n",
    "                           center = {\"lat\": 37.0902, \"lon\": -95.7129},\n",
    "                           opacity=0.5,\n",
    "                           hover_data = ['Code', '# of Book Bans', 'Titles'] \n",
    "                          )\n",
    "    \n",
    "    fig.update_layout(margin={\"r\":0,\"t\":0,\"l\":0,\"b\":0})\n",
    "    \n",
    "    if switch: \n",
    "        addLibraries(fig)\n",
    "    \n",
    "    return fig"
   ]
  },
  {
   "cell_type": "code",
   "execution_count": 24,
   "id": "6f5eb772-2ca4-434f-9c28-9891cb46cb7d",
   "metadata": {},
   "outputs": [],
   "source": [
    "stateOptions = []\n",
    "for idx, state in stateCode.iterrows():\n",
    "    stateOptions.append({'label':state['State'], 'value':state['Code']})"
   ]
  },
  {
   "cell_type": "code",
   "execution_count": null,
   "id": "8c299c5e-6e8f-4bfb-9639-fca7b231b3e4",
   "metadata": {},
   "outputs": [
    {
     "name": "stdout",
     "output_type": "stream",
     "text": [
      "Dash is running on http://127.0.0.1:8050/\n",
      "\n",
      " * Serving Flask app \"__main__\" (lazy loading)\n",
      " * Environment: production\n",
      "\u001b[31m   WARNING: This is a development server. Do not use it in a production deployment.\u001b[0m\n",
      "\u001b[2m   Use a production WSGI server instead.\u001b[0m\n",
      " * Debug mode: on\n"
     ]
    }
   ],
   "source": [
    "app = Dash(__name__, external_stylesheets=[dbc.themes.BOOTSTRAP])\n",
    "\n",
    "tab1_content = html.Div(\n",
    "        [\n",
    "            dbc.Row([\n",
    "                dbc.Col(html.H3(\"Banned Books Across America\"), \n",
    "                        className='ps-4',\n",
    "                        xl=6, align=\"center\"),\n",
    "                dbc.Col(\n",
    "                    html.Div([\n",
    "                        html.Label('Select Data'),\n",
    "                        dcc.Dropdown(\n",
    "                        options = [\n",
    "                            {'label': 'Total Ban Counts', 'value': 0},                            \n",
    "                            {'label': 'Funding per Student', 'value': 1},\n",
    "                            {'label': 'Education Scores', 'value': 2},\n",
    "                            {'label': 'Demographic Data', 'value': 3},\n",
    "                        ],value=0, id='map-dropdown'),\n",
    "                    ]), xl=3),\n",
    "                dbc.Col(dbc.Checklist(\n",
    "                    id='library-switch',\n",
    "                     options=[\n",
    "                        {\"label\": \"Show Libraries\", \"value\": True},\n",
    "                    ],\n",
    "                    value=False,                    \n",
    "                    switch=True\n",
    "                ), xl=3, align=\"center\")\n",
    "            ], className= 'pb-3'),\n",
    "            dcc.Graph(id=\"mainMap\")\n",
    "        ], className=\"mt-3\")\n",
    "\n",
    "tab2_content = html.Div([\n",
    "        dbc.Row([            \n",
    "            dbc.Col(\n",
    "                html.Div([\n",
    "                    html.Label('Select States'),\n",
    "                    dcc.Dropdown(\n",
    "                    options = stateOptions, id='state-dropdown',\n",
    "                    multi=True, searchable=True),\n",
    "                ]),\n",
    "                className='ms-3', xl=5, lg=6),\n",
    "            dbc.Col(html.Div([\n",
    "                html.H5('Book Bans:'),\n",
    "                html.Div(id='bookBanInfo', children=[]),\n",
    "            ]), xl=6, lg=6, className='alert alert-info me-3'),\n",
    "        ], className= 'pb-3 pt-3'),        \n",
    "        dbc.Row([\n",
    "            dbc.Col(dcc.Graph(id='compare-rev'), lg=6),\n",
    "            dbc.Col(dcc.Graph(id='compare-edu'), lg=6),\n",
    "        ]),       \n",
    "        dcc.Graph(id='compare-demo'),\n",
    "])\n",
    "\n",
    "app.layout = dbc.Tabs(\n",
    "    [\n",
    "        dbc.Tab(tab1_content, label=\"All States\"),\n",
    "        dbc.Tab(tab2_content, label=\"Compare States\"),       \n",
    "    ]\n",
    ")\n",
    "\n",
    "\n",
    "@app.callback(\n",
    "    Output('mainMap', 'figure'),\n",
    "    Input('map-dropdown', 'value'),\n",
    "    Input('library-switch', 'value')\n",
    ")\n",
    "def update_figure(dropdown, switch):\n",
    "    if dropdown == 0: #total ban\n",
    "        return chloroplethMap(switch)    \n",
    "    elif dropdown == 1: #funding\n",
    "        return revenueMap()\n",
    "    elif dropdown == 2: #education scores\n",
    "        return createEduScoreFig()\n",
    "    elif dropdown == 3: #demographics\n",
    "        return createDemographicData()\n",
    "    else: \n",
    "        return changeMap(totalBooks, 'Code', 'Number of <br>Book Bans', switch)\n",
    "\n",
    "@app.callback(\n",
    "    Output('compare-rev', 'figure'),\n",
    "    Output('compare-edu', 'figure'),\n",
    "    Output('compare-demo', 'figure'),\n",
    "    Output('bookBanInfo', 'children'),\n",
    "    Input('state-dropdown', 'value')\n",
    ")\n",
    "def update_compare(states):   \n",
    "    \n",
    "    subplot1 = singleRevenueMap(states)        \n",
    "    subplot2 = createSingleEduScoreFig(states)        \n",
    "    subplot3 = createSingleDemographicData(states) \n",
    "    \n",
    "    bookBans = []\n",
    "    if states != None:        \n",
    "        for state in states:  \n",
    "            stateFull = stateCode[stateCode['Code'] == state]['State'].iloc[0]\n",
    "            info = totalBooks[totalBooks['Code'] == state]   \n",
    "            if len(info) == 1: \n",
    "                bookNumber = info['# of Book Bans'].iloc[0]\n",
    "            else:\n",
    "                bookNumber = '0'\n",
    "\n",
    "            bookBans.append(stateFull + ' : ' + str(bookNumber))\n",
    "        \n",
    "        bookBans = ',   '.join(bookBans)\n",
    "        \n",
    "    else:\n",
    "        bookBans = [html.Span('No States Chosen')]\n",
    "    \n",
    "    return subplot1, subplot2, subplot3, bookBans\n",
    "\n",
    "if __name__ == '__main__':\n",
    "    app.run_server(debug=True, use_reloader=False, port=8050)"
   ]
  },
  {
   "cell_type": "code",
   "execution_count": null,
   "id": "3ee2dca2-1604-4610-a223-bf931657b719",
   "metadata": {},
   "outputs": [],
   "source": []
  }
 ],
 "metadata": {
  "kernelspec": {
   "display_name": "Python 3 (ipykernel)",
   "language": "python",
   "name": "python3"
  },
  "language_info": {
   "codemirror_mode": {
    "name": "ipython",
    "version": 3
   },
   "file_extension": ".py",
   "mimetype": "text/x-python",
   "name": "python",
   "nbconvert_exporter": "python",
   "pygments_lexer": "ipython3",
   "version": "3.9.13"
  }
 },
 "nbformat": 4,
 "nbformat_minor": 5
}
